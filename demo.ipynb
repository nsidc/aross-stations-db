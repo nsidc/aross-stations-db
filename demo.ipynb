{
 "cells": [
  {
   "cell_type": "markdown",
   "id": "0404c471-df1b-431c-b74e-2db44cc8fc97",
   "metadata": {},
   "source": [
    "## `aross-stations-db` demo"
   ]
  },
  {
   "cell_type": "code",
   "execution_count": null,
   "id": "62946305-1d70-4570-8d67-5f9c5560c695",
   "metadata": {},
   "outputs": [],
   "source": [
    "import aross_stations_db\n",
    "version = aross_stations_db.__version__\n",
    "\n",
    "print(f\"Welcome; aross-statations-db v{version} is installed and imported.\")"
   ]
  },
  {
   "cell_type": "code",
   "execution_count": null,
   "id": "4dbe785f-7ed1-4aa2-a7de-6f4df1973442",
   "metadata": {},
   "outputs": [],
   "source": [
    "import leafmap\n",
    "from ipyleaflet import (\n",
    "    basemaps,\n",
    "    projections,\n",
    ")\n",
    "\n",
    "\n",
    "START_DATE = \"2023-01-01\"\n",
    "END_DATE = \"2023-06-01\"\n",
    "SHAPE = \"POLYGON ((-159.32130625160698 69.56469019745796, -159.32130625160698 68.08208920517862, -150.17196253090276 68.08208920517862, -150.17196253090276 69.56469019745796, -159.32130625160698 69.56469019745796))\"\n",
    "API_QUERY = f\"http://api:8000/v1/?start={START_DATE}&end={END_DATE}&polygon={SHAPE}\"\n",
    "\n",
    "\n",
    "m = leafmap.Map(\n",
    "    center=(90, 0),\n",
    "    zoom=1,\n",
    "    basemap=basemaps.NASAGIBS.BlueMarble3413,\n",
    "    crs=projections.EPSG3413.NASAGIBS,\n",
    "\n",
    ")\n",
    "m.add_geojson(\n",
    "    API_QUERY,\n",
    "    layer_name=\"ASOS stations\",\n",
    ")\n",
    "\n",
    "m"
   ]
  },
  {
   "cell_type": "code",
   "execution_count": null,
   "id": "d0b5e940-a550-4f7f-bc0e-c86167855eed",
   "metadata": {},
   "outputs": [],
   "source": []
  }
 ],
 "metadata": {
  "kernelspec": {
   "display_name": "Python 3 (ipykernel)",
   "language": "python",
   "name": "python3"
  },
  "language_info": {
   "codemirror_mode": {
    "name": "ipython",
    "version": 3
   },
   "file_extension": ".py",
   "mimetype": "text/x-python",
   "name": "python",
   "nbconvert_exporter": "python",
   "pygments_lexer": "ipython3",
   "version": "3.12.4"
  }
 },
 "nbformat": 4,
 "nbformat_minor": 5
}
