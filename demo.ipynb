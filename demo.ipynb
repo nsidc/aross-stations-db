{
 "cells": [
  {
   "cell_type": "markdown",
   "id": "0404c471-df1b-431c-b74e-2db44cc8fc97",
   "metadata": {},
   "source": [
    "## `aross-stations-db` demo"
   ]
  },
  {
   "cell_type": "code",
   "execution_count": 1,
   "id": "62946305-1d70-4570-8d67-5f9c5560c695",
   "metadata": {},
   "outputs": [
    {
     "name": "stdout",
     "output_type": "stream",
     "text": [
      "Welcome; aross-statations-db v0.1.dev45+g3d35165.d20240702 is installed and imported.\n"
     ]
    }
   ],
   "source": [
    "import aross_stations_db\n",
    "version = aross_stations_db.__version__\n",
    "\n",
    "print(f\"Welcome; aross-statations-db v{version} is installed and imported.\")"
   ]
  },
  {
   "cell_type": "code",
   "execution_count": 2,
   "id": "4dbe785f-7ed1-4aa2-a7de-6f4df1973442",
   "metadata": {},
   "outputs": [
    {
     "data": {
      "application/vnd.jupyter.widget-view+json": {
       "model_id": "dbbe2e8d12bd41b186ab159013a1c53d",
       "version_major": 2,
       "version_minor": 0
      },
      "text/plain": [
       "Map(center=[90, 0], controls=(ZoomControl(options=['position', 'zoom_in_text', 'zoom_in_title', 'zoom_out_text…"
      ]
     },
     "execution_count": 2,
     "metadata": {},
     "output_type": "execute_result"
    }
   ],
   "source": [
    "import leafmap\n",
    "from ipyleaflet import (\n",
    "    basemaps,\n",
    "    projections,\n",
    ")\n",
    "\n",
    "\n",
    "START_DATE = \"2023-01-01\"\n",
    "END_DATE = \"2023-06-01\"\n",
    "# POLYGON = \"POLYGON ((-159.32130625160698 69.56469019745796, -159.32130625160698 68.08208920517862, -150.17196253090276 68.08208920517862, -150.17196253090276 69.56469019745796, -159.32130625160698 69.56469019745796))\"\n",
    "API_QUERY_URL = f\"http://api:8000/v1/stations?start={START_DATE}&end={END_DATE}\"\n",
    "\n",
    "\n",
    "m = leafmap.Map(\n",
    "    center=(90, 0),\n",
    "    zoom=1,\n",
    "    basemap=basemaps.NASAGIBS.BlueMarble3413,\n",
    "    crs=projections.EPSG3413.NASAGIBS,\n",
    "\n",
    ")\n",
    "m.add_geojson(\n",
    "    API_QUERY_URL,\n",
    "    layer_name=\"ASOS stations\",\n",
    ")\n",
    "\n",
    "m"
   ]
  }
 ],
 "metadata": {
  "kernelspec": {
   "display_name": "Python 3 (ipykernel)",
   "language": "python",
   "name": "python3"
  },
  "language_info": {
   "codemirror_mode": {
    "name": "ipython",
    "version": 3
   },
   "file_extension": ".py",
   "mimetype": "text/x-python",
   "name": "python",
   "nbconvert_exporter": "python",
   "pygments_lexer": "ipython3",
   "version": "3.12.4"
  }
 },
 "nbformat": 4,
 "nbformat_minor": 5
}
