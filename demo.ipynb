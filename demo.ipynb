{
 "cells": [
  {
   "cell_type": "markdown",
   "id": "0404c471-df1b-431c-b74e-2db44cc8fc97",
   "metadata": {},
   "source": [
    "## `aross-stations-db` demo"
   ]
  },
  {
   "cell_type": "code",
   "execution_count": null,
   "id": "62946305-1d70-4570-8d67-5f9c5560c695",
   "metadata": {},
   "outputs": [],
   "source": [
    "import aross_stations_db\n",
    "\n",
    "print(f\"Welcome; aross-statations-db v{aross_stations_db.__version__} is installed and imported.\")"
   ]
  },
  {
   "cell_type": "code",
   "execution_count": null,
   "id": "16660440-9532-48df-932e-939926b641b5",
   "metadata": {},
   "outputs": [],
   "source": [
    "API_BASE_URL = \"http://api:8000/v1\"\n",
    "\n",
    "QUERY_START_DATE = \"2023-01-01\"\n",
    "QUERY_END_DATE = \"2023-06-01\"\n",
    "QUERY_POLYGON = \"POLYGON ((-159.32130625160698 69.56469019745796, -159.32130625160698 68.08208920517862, -150.17196253090276 68.08208920517862, -150.17196253090276 69.56469019745796, -159.32130625160698 69.56469019745796))\"\n",
    "\n",
    "SPATIOTEMPORAL_QUERY_STRING = f\"start={QUERY_START_DATE}&end={QUERY_END_DATE}\"\n",
    "# SPATIOTEMPORAL_QUERY_STRING = f\"start={QUERY_START_DATE}&end={QUERY_END_DATE}&polygon={QUERY_POLYGON}\""
   ]
  },
  {
   "cell_type": "code",
   "execution_count": null,
   "id": "4dbe785f-7ed1-4aa2-a7de-6f4df1973442",
   "metadata": {
    "scrolled": true
   },
   "outputs": [],
   "source": [
    "import leafmap\n",
    "from ipyleaflet import (\n",
    "    basemaps,\n",
    "    projections,\n",
    ")\n",
    "\n",
    "STATIONS_QUERY_URL = f\"{API_BASE_URL}/stations?{SPATIOTEMPORAL_QUERY_STRING}\"\n",
    "\n",
    "m = leafmap.Map(\n",
    "    center=(90, 0),\n",
    "    zoom=1,\n",
    "    basemap=basemaps.NASAGIBS.BlueMarble3413,\n",
    "    crs=projections.EPSG3413.NASAGIBS,\n",
    "\n",
    ")\n",
    "m.add_geojson(\n",
    "    STATIONS_QUERY_URL,\n",
    "    layer_name=\"ASOS stations\",\n",
    ")\n",
    "m"
   ]
  },
  {
   "cell_type": "code",
   "execution_count": null,
   "id": "ceec4ec5-e179-4e2d-9412-fb7aa519c8e0",
   "metadata": {},
   "outputs": [],
   "source": [
    "import datetime as dt\n",
    "\n",
    "import pandas\n",
    "import matplotlib.pyplot as plt\n",
    "\n",
    "\n",
    "TIMESERIES_QUERY_URL = f\"{API_BASE_URL}/events/timeseries/monthly?{SPATIOTEMPORAL_QUERY_STRING}\"\n",
    "\n",
    "def barchart(*, query_url: str, title: str):\n",
    "    \n",
    "    timeseries_data = pandas.read_json(query_url)\n",
    "    timeseries_data.set_index(\"date\", inplace=True)\n",
    "    timeseries_data.index = timeseries_data.index.strftime(\"%Y-%m\")\n",
    "    return timeseries_data.plot(\n",
    "        kind=\"bar\",\n",
    "        title=title,\n",
    "        ylabel=\"Event count\",\n",
    "        xlabel=\"Month\",\n",
    "        rot=0,\n",
    "        legend=False,\n",
    "    )\n",
    "\n",
    "plt.show(\n",
    "    barchart(\n",
    "        query_url=TIMESERIES_QUERY_URL,\n",
    "        title=f\"Monthly rain on snow events\\n[{QUERY_START_DATE}, {QUERY_END_DATE})\",\n",
    "    )\n",
    ")"
   ]
  }
 ],
 "metadata": {
  "kernelspec": {
   "display_name": "Python 3 (ipykernel)",
   "language": "python",
   "name": "python3"
  },
  "language_info": {
   "codemirror_mode": {
    "name": "ipython",
    "version": 3
   },
   "file_extension": ".py",
   "mimetype": "text/x-python",
   "name": "python",
   "nbconvert_exporter": "python",
   "pygments_lexer": "ipython3",
   "version": "3.12.4"
  }
 },
 "nbformat": 4,
 "nbformat_minor": 5
}
